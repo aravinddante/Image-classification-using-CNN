{
  "nbformat": 4,
  "nbformat_minor": 0,
  "metadata": {
    "kernelspec": {
      "display_name": "Python 3",
      "language": "python",
      "name": "python3"
    },
    "language_info": {
      "codemirror_mode": {
        "name": "ipython",
        "version": 3
      },
      "file_extension": ".py",
      "mimetype": "text/x-python",
      "name": "python",
      "nbconvert_exporter": "python",
      "pygments_lexer": "ipython3",
      "version": "3.8.5"
    },
    "colab": {
      "name": "Image Classification.ipynb",
      "provenance": [],
      "collapsed_sections": []
    }
  },
  "cells": [
    {
      "cell_type": "markdown",
      "metadata": {
        "deletable": false,
        "editable": false,
        "nbgrader": {
          "cell_type": "markdown",
          "checksum": "5fa9f96d4ca0144b2db877078cf7b2f8",
          "grade": false,
          "grade_id": "cell-5690119ead85e67e",
          "locked": true,
          "schema_version": 3,
          "solution": false,
          "task": false
        },
        "id": "LigyeK0EbsvQ"
      },
      "source": [
        "# Dog and Cat image classification using CNN\n"
      ]
    },
    {
      "cell_type": "markdown",
      "metadata": {
        "deletable": false,
        "editable": false,
        "nbgrader": {
          "cell_type": "markdown",
          "checksum": "a54241ea89512f794ee9e366f2ef92f3",
          "grade": false,
          "grade_id": "cell-0235e816fc98b0f6",
          "locked": true,
          "schema_version": 3,
          "solution": false
        },
        "id": "-0qmFT_LbsvY"
      },
      "source": [
        "<img src=\"https://cdn.pixabay.com/photo/2015/05/20/10/03/cat-and-dog-775116_960_720.jpg\" alt=\"Image of cats and dogs\" style=\"width: 500px;\"/>"
      ]
    },
    {
      "cell_type": "code",
      "metadata": {
        "deletable": false,
        "nbgrader": {
          "cell_type": "code",
          "checksum": "0075c816ac7a24f2287d6fa9b8a81565",
          "grade": true,
          "grade_id": "cell-464a08ede00083a4",
          "locked": false,
          "points": 0,
          "schema_version": 3,
          "solution": true
        },
        "id": "DT-Dl6vAbsvZ"
      },
      "source": [
        "import matplotlib.pyplot as plt\n",
        "import numpy as np\n",
        "import torch\n",
        "from torchvision import datasets, transforms as tfs\n",
        "from torch.utils.data import DataLoader, TensorDataset, random_split\n",
        "from pathlib import Path\n",
        "import shutil\n",
        "import re\n",
        "from tqdm.notebook import tqdm\n",
        "from torch import optim\n",
        "from torch import nn\n",
        "import torch.nn.functional as F"
      ],
      "execution_count": 1,
      "outputs": []
    },
    {
      "cell_type": "markdown",
      "metadata": {
        "deletable": false,
        "editable": false,
        "nbgrader": {
          "cell_type": "markdown",
          "checksum": "49bf801d5ced99ccf6f0c5cd12100230",
          "grade": false,
          "grade_id": "cell-4821dc273028d702",
          "locked": true,
          "schema_version": 3,
          "solution": false
        },
        "id": "HLwNQJCNbsva"
      },
      "source": [
        "---\n",
        "## 1. Loading the data and preprocessing"
      ]
    },
    {
      "cell_type": "code",
      "metadata": {
        "deletable": false,
        "nbgrader": {
          "cell_type": "code",
          "checksum": "977d3723abd484be4bfa4ffb4590a2d1",
          "grade": true,
          "grade_id": "cell-1b1314f2ab1b1d6b",
          "locked": false,
          "points": 0,
          "schema_version": 3,
          "solution": true
        },
        "id": "i6inExN9bsvc"
      },
      "source": [
        "# TODO: Change the directories accordingly\n",
        "train_path = r\"\\deep-machine-learning\\home-assignments\\HA1\\train\"\n",
        "val_path = r\"\\deep-machine-learning\\home-assignments\\HA1\\val\"\n",
        "small_train_path = r\"\\deep-machine-learning\\home-assignments\\HA1\\small_train\"\n",
        "small_val_path = r\"\\deep-machine-learning\\home-assignments\\HA1\\small_val\""
      ],
      "execution_count": null,
      "outputs": []
    },
    {
      "cell_type": "markdown",
      "metadata": {
        "deletable": false,
        "editable": false,
        "nbgrader": {
          "cell_type": "markdown",
          "checksum": "6f7d18f73a495811569bd83851d125b4",
          "grade": false,
          "grade_id": "cell-c0bfc1ac7fadfcc7",
          "locked": true,
          "schema_version": 3,
          "solution": false
        },
        "id": "YJPudO2xbsvd"
      },
      "source": [
        "---\n",
        "## 2. Training\n"
      ]
    },
    {
      "cell_type": "code",
      "metadata": {
        "deletable": false,
        "nbgrader": {
          "cell_type": "code",
          "checksum": "2640d61f483bd3ac9c018fd407f71ace",
          "grade": true,
          "grade_id": "cell-4c9de348cd8bc4ff",
          "locked": false,
          "points": 1,
          "schema_version": 3,
          "solution": true
        },
        "id": "wQD93JBMbsve"
      },
      "source": [
        "from torch import nn\n",
        "import torch.nn.functional as F\n",
        "\n",
        "class DigitClassifierNetwork(nn.Module):\n",
        "    def __init__(self):\n",
        "        super().__init__()\n",
        "        self.conv1 = nn.Conv2d(in_channels=3, out_channels=20, kernel_size=3, stride = 1, padding = ((1,1)))\n",
        "        self.conv2 = nn.Conv2d(in_channels=20, out_channels=50,kernel_size=3, stride = 1, padding = ((1,1)))\n",
        "        self.conv3 = nn.Conv2d(in_channels=50,out_channels= 60,kernel_size=3, stride = 1, padding = ((1,1)))\n",
        "\n",
        "        \n",
        "        self.fc1 = nn.Linear(60*15*15, 100)\n",
        "        self.fc2 = nn.Linear(100,2)\n",
        "        \n",
        "    def forward(self, x):\n",
        "        x = F.relu(self.conv1(x))\n",
        "        x = F.max_pool2d(x, kernel_size=2,stride=2)\n",
        "        x = F.relu(self.conv2(x))\n",
        "        x = F.max_pool2d(x, kernel_size=2,stride=2)\n",
        "        x = F.relu(self.conv3(x))\n",
        "        x = F.max_pool2d(x, kernel_size=2,stride=1)\n",
        "        x = x.view(-1, 60*15*15)\n",
        "        x = F.relu(self.fc1(x))\n",
        "        x= self.fc2(x)\n",
        "        return F.log_softmax(x, dim=1)"
      ],
      "execution_count": null,
      "outputs": []
    },
    {
      "cell_type": "code",
      "metadata": {
        "deletable": false,
        "nbgrader": {
          "cell_type": "code",
          "checksum": "510f9590642bc2210d710bfc6fef2b97",
          "grade": true,
          "grade_id": "cell-bb1fcd878f3bea9a",
          "locked": false,
          "points": 0,
          "schema_version": 3,
          "solution": true
        },
        "id": "UUGoWqbNbsve"
      },
      "source": [
        "# The following line automatically figures out what device (cpu or gpu)\n",
        "# Later we can use the `.to(device)` method to move our data or model to the correct device.\n",
        "device = torch.device(\"cuda\" if torch.cuda.is_available() \n",
        "                                  else \"cpu\")\n",
        "model = DigitClassifierNetwork()\n",
        "model.to(device);\n",
        "loss_fn = nn.CrossEntropyLoss()\n",
        "# We provide the `Adam` optimizer with the model parameters,\n",
        "# effectively telling it which parameters we consider trainable.\n",
        "optimizer = optim.Adam(model.parameters(), lr=0.01)"
      ],
      "execution_count": null,
      "outputs": []
    },
    {
      "cell_type": "code",
      "metadata": {
        "id": "h1rUXj56bsve"
      },
      "source": [
        "def evaluate_model(val_data_loader, model, loss_fn):\n",
        "    losses = []\n",
        "    n_correct = 0\n",
        "    with torch.no_grad():\n",
        "        for b_x, b_y in val_data_loader:\n",
        "            b_x = b_x.cuda()\n",
        "            b_y = b_y.cuda()\n",
        "            pred = model(b_x)\n",
        "            loss = loss_fn(pred, b_y)\n",
        "            losses.append(loss.item())\n",
        "            \n",
        "            hard_preds = pred.argmax(dim=1)\n",
        "            n_correct += torch.sum(pred.argmax(dim=1) == b_y).item()\n",
        "        val_accuracy = n_correct/len(small_val_data)\n",
        "        val_avg_loss = sum(losses)/len(losses)    \n",
        "    \n",
        "    return val_accuracy, val_avg_loss"
      ],
      "execution_count": null,
      "outputs": []
    },
    {
      "cell_type": "code",
      "metadata": {
        "colab": {
          "referenced_widgets": [
            "03281bf59af34618b637a6cfec9a749b",
            "8f0b00a552304406a5a0018b41318e36",
            "2813dac6b9f64ec5ad51aed7e75dacb7",
            "5bb777a9207f4e7d943c7e98b8a13224",
            "21aff5e1dedf4830a264170fbda05eb7",
            "6327d3aaa47140f09aeba32d25af160e",
            "0f7db0eb92e24728ac643e0a4f765d83",
            "f1ab92108d7d4a73b1a395c1d8117909",
            "5a6499ebbd43454cab76278c0f7d8ee7",
            "e3604548ae244e2381dce33ba85edc34"
          ]
        },
        "id": "933KNrX6bsvf",
        "outputId": "3368812c-5deb-4df0-d36b-30baa2cb3cd4"
      },
      "source": [
        "train_losses = []\n",
        "val_losses = []\n",
        "train_accs = []\n",
        "val_accs = []\n",
        "\n",
        "for epoch in range(10):\n",
        "    losses = []\n",
        "    n_correct = 0\n",
        "    for b_x, b_y in tqdm(small_train_dataloader):\n",
        "        b_x = b_x.cuda()\n",
        "        b_y = b_y.cuda()\n",
        "        \n",
        "        # Compute predictions and losses\n",
        "        pred = model(b_x)\n",
        "        loss = loss_fn(pred, b_y)\n",
        "        losses.append(loss.item())\n",
        "        \n",
        "        # Count number of correct predictions\n",
        "        hard_preds = pred.argmax(dim=1)\n",
        "        n_correct += torch.sum(pred.argmax(dim=1) == b_y).item()\n",
        "\n",
        "        # Backpropagate\n",
        "        loss.backward()\n",
        "        optimizer.step()\n",
        "        optimizer.zero_grad()    \n",
        "        \n",
        "    # Compute accuracy and loss in the entire training set\n",
        "    train_accuracy = n_correct/len(small_train_data)\n",
        "    train_avg_loss = sum(losses)/len(losses)    \n",
        "        \n",
        "    # Compute accuracy and loss in the entire validation set\n",
        "    val_accuracy, val_avg_loss = evaluate_model(small_val_dataloader, model, loss_fn)\n",
        "    \n",
        "    train_losses.append(train_avg_loss)\n",
        "    val_losses.append(val_avg_loss)\n",
        "    train_accs.append(train_accuracy)\n",
        "    val_accs.append(val_accuracy)\n",
        "        \n",
        "    # Display metrics\n",
        "    display_str = 'Epoch {} '\n",
        "    display_str += '\\tLoss: {:.3f} '\n",
        "    display_str += '\\tLoss (val): {:.3f}'\n",
        "    display_str += '\\tAccuracy: {:.2f} '\n",
        "    display_str += '\\tAccuracy (val): {:.2f}'\n",
        "    print(display_str.format(epoch, train_avg_loss, val_avg_loss, train_accuracy, val_accuracy))"
      ],
      "execution_count": null,
      "outputs": [
        {
          "output_type": "display_data",
          "data": {
            "application/vnd.jupyter.widget-view+json": {
              "model_id": "03281bf59af34618b637a6cfec9a749b",
              "version_major": 2,
              "version_minor": 0
            },
            "text/plain": [
              "HBox(children=(FloatProgress(value=0.0, max=28.0), HTML(value='')))"
            ]
          },
          "metadata": {
            "tags": []
          }
        },
        {
          "output_type": "stream",
          "text": [
            "\n",
            "Epoch 0 \tLoss: 1.526 \tLoss (val): 0.695\tAccuracy: 0.50 \tAccuracy (val): 0.50\n"
          ],
          "name": "stdout"
        },
        {
          "output_type": "display_data",
          "data": {
            "application/vnd.jupyter.widget-view+json": {
              "model_id": "8f0b00a552304406a5a0018b41318e36",
              "version_major": 2,
              "version_minor": 0
            },
            "text/plain": [
              "HBox(children=(FloatProgress(value=0.0, max=28.0), HTML(value='')))"
            ]
          },
          "metadata": {
            "tags": []
          }
        },
        {
          "output_type": "stream",
          "text": [
            "\n",
            "Epoch 1 \tLoss: 0.693 \tLoss (val): 0.693\tAccuracy: 0.50 \tAccuracy (val): 0.50\n"
          ],
          "name": "stdout"
        },
        {
          "output_type": "display_data",
          "data": {
            "application/vnd.jupyter.widget-view+json": {
              "model_id": "2813dac6b9f64ec5ad51aed7e75dacb7",
              "version_major": 2,
              "version_minor": 0
            },
            "text/plain": [
              "HBox(children=(FloatProgress(value=0.0, max=28.0), HTML(value='')))"
            ]
          },
          "metadata": {
            "tags": []
          }
        },
        {
          "output_type": "stream",
          "text": [
            "\n",
            "Epoch 2 \tLoss: 0.692 \tLoss (val): 0.692\tAccuracy: 0.51 \tAccuracy (val): 0.51\n"
          ],
          "name": "stdout"
        },
        {
          "output_type": "display_data",
          "data": {
            "application/vnd.jupyter.widget-view+json": {
              "model_id": "5bb777a9207f4e7d943c7e98b8a13224",
              "version_major": 2,
              "version_minor": 0
            },
            "text/plain": [
              "HBox(children=(FloatProgress(value=0.0, max=28.0), HTML(value='')))"
            ]
          },
          "metadata": {
            "tags": []
          }
        },
        {
          "output_type": "stream",
          "text": [
            "\n",
            "Epoch 3 \tLoss: 0.687 \tLoss (val): 0.687\tAccuracy: 0.53 \tAccuracy (val): 0.56\n"
          ],
          "name": "stdout"
        },
        {
          "output_type": "display_data",
          "data": {
            "application/vnd.jupyter.widget-view+json": {
              "model_id": "21aff5e1dedf4830a264170fbda05eb7",
              "version_major": 2,
              "version_minor": 0
            },
            "text/plain": [
              "HBox(children=(FloatProgress(value=0.0, max=28.0), HTML(value='')))"
            ]
          },
          "metadata": {
            "tags": []
          }
        },
        {
          "output_type": "stream",
          "text": [
            "\n",
            "Epoch 4 \tLoss: 0.680 \tLoss (val): 0.681\tAccuracy: 0.56 \tAccuracy (val): 0.55\n"
          ],
          "name": "stdout"
        },
        {
          "output_type": "display_data",
          "data": {
            "application/vnd.jupyter.widget-view+json": {
              "model_id": "6327d3aaa47140f09aeba32d25af160e",
              "version_major": 2,
              "version_minor": 0
            },
            "text/plain": [
              "HBox(children=(FloatProgress(value=0.0, max=28.0), HTML(value='')))"
            ]
          },
          "metadata": {
            "tags": []
          }
        },
        {
          "output_type": "stream",
          "text": [
            "\n",
            "Epoch 5 \tLoss: 0.677 \tLoss (val): 0.678\tAccuracy: 0.55 \tAccuracy (val): 0.57\n"
          ],
          "name": "stdout"
        },
        {
          "output_type": "display_data",
          "data": {
            "application/vnd.jupyter.widget-view+json": {
              "model_id": "0f7db0eb92e24728ac643e0a4f765d83",
              "version_major": 2,
              "version_minor": 0
            },
            "text/plain": [
              "HBox(children=(FloatProgress(value=0.0, max=28.0), HTML(value='')))"
            ]
          },
          "metadata": {
            "tags": []
          }
        },
        {
          "output_type": "stream",
          "text": [
            "\n",
            "Epoch 6 \tLoss: 0.667 \tLoss (val): 0.681\tAccuracy: 0.57 \tAccuracy (val): 0.57\n"
          ],
          "name": "stdout"
        },
        {
          "output_type": "display_data",
          "data": {
            "application/vnd.jupyter.widget-view+json": {
              "model_id": "f1ab92108d7d4a73b1a395c1d8117909",
              "version_major": 2,
              "version_minor": 0
            },
            "text/plain": [
              "HBox(children=(FloatProgress(value=0.0, max=28.0), HTML(value='')))"
            ]
          },
          "metadata": {
            "tags": []
          }
        },
        {
          "output_type": "stream",
          "text": [
            "\n",
            "Epoch 7 \tLoss: 0.662 \tLoss (val): 0.676\tAccuracy: 0.59 \tAccuracy (val): 0.57\n"
          ],
          "name": "stdout"
        },
        {
          "output_type": "display_data",
          "data": {
            "application/vnd.jupyter.widget-view+json": {
              "model_id": "5a6499ebbd43454cab76278c0f7d8ee7",
              "version_major": 2,
              "version_minor": 0
            },
            "text/plain": [
              "HBox(children=(FloatProgress(value=0.0, max=28.0), HTML(value='')))"
            ]
          },
          "metadata": {
            "tags": []
          }
        },
        {
          "output_type": "stream",
          "text": [
            "\n",
            "Epoch 8 \tLoss: 0.650 \tLoss (val): 0.676\tAccuracy: 0.59 \tAccuracy (val): 0.57\n"
          ],
          "name": "stdout"
        },
        {
          "output_type": "display_data",
          "data": {
            "application/vnd.jupyter.widget-view+json": {
              "model_id": "e3604548ae244e2381dce33ba85edc34",
              "version_major": 2,
              "version_minor": 0
            },
            "text/plain": [
              "HBox(children=(FloatProgress(value=0.0, max=28.0), HTML(value='')))"
            ]
          },
          "metadata": {
            "tags": []
          }
        },
        {
          "output_type": "stream",
          "text": [
            "\n",
            "Epoch 9 \tLoss: 0.647 \tLoss (val): 0.698\tAccuracy: 0.59 \tAccuracy (val): 0.55\n"
          ],
          "name": "stdout"
        }
      ]
    },
    {
      "cell_type": "code",
      "metadata": {
        "deletable": false,
        "nbgrader": {
          "cell_type": "code",
          "checksum": "e71729e832321272983178b41b90f874",
          "grade": true,
          "grade_id": "cell-fa81712e1e27432a",
          "locked": false,
          "points": 0,
          "schema_version": 3,
          "solution": true
        },
        "id": "O3PMA3b7bsvf",
        "outputId": "c7efb9d1-6d25-4289-cc1f-6babe7823bd1"
      },
      "source": [
        "# Create figure for plotting\n",
        "fig, ax = plt.subplots(ncols=2, figsize=(8,4))\n",
        "plt.ion()\n",
        "plot_interval = 1\n",
        "\n",
        "# Update plots\n",
        "ax[0].clear()\n",
        "ax[0].plot(train_losses)\n",
        "ax[0].plot(val_losses)\n",
        "\n",
        "ax[1].clear()\n",
        "ax[1].plot(train_accs)\n",
        "ax[1].plot(val_accs)\n",
        "\n",
        "# Add legends and labels\n",
        "ax[0].set_title('Loss')\n",
        "ax[0].set_xlabel('Number of batches')\n",
        "ax[0].legend(['Train', 'Validation'])\n",
        "\n",
        "ax[1].set_title('Accuracy')\n",
        "ax[1].set_xlabel('Number of batches')\n",
        "ax[1].legend(['Train', 'Validation'])\n",
        "ax[1].set_ylim([0,1])\n",
        "\n",
        "# Draw the figure on the screen\n",
        "fig.canvas.draw()"
      ],
      "execution_count": null,
      "outputs": [
        {
          "output_type": "display_data",
          "data": {
            "image/png": "[encoded data removed]",
            "text/plain": [
              "<Figure size 576x288 with 2 Axes>"
            ]
          },
          "metadata": {
            "tags": [],
            "needs_background": "light"
          }
        }
      ]
    },
    {
      "cell_type": "markdown",
      "metadata": {
        "deletable": false,
        "editable": false,
        "nbgrader": {
          "cell_type": "markdown",
          "checksum": "afa8e2c066a79d25a5ad58e8095cbfac",
          "grade": false,
          "grade_id": "cell-ee79a83a62b70a8f",
          "locked": true,
          "schema_version": 3,
          "solution": false
        },
        "id": "_cCFcCNcbsvg"
      },
      "source": [
        "---\n",
        "## 3. Improving the model"
      ]
    },
    {
      "cell_type": "code",
      "metadata": {
        "deletable": false,
        "nbgrader": {
          "cell_type": "code",
          "checksum": "01447485bf51fbce22145e60e0fb8c93",
          "grade": true,
          "grade_id": "cell-6edb7d7e343ab14b",
          "locked": false,
          "points": 1,
          "schema_version": 3,
          "solution": true
        },
        "id": "9A7FeREibsvg"
      },
      "source": [
        "class DigitClassifierNetwork(nn.Module):\n",
        "    def __init__(self):\n",
        "        super().__init__()\n",
        "        self.conv1 = nn.Conv2d(in_channels=3, out_channels=20, kernel_size=3, stride = 1, padding = ((1,1)))\n",
        "        self.conv2 = nn.Conv2d(in_channels=20, out_channels=50,kernel_size=3, stride = 1, padding = ((1,1)))\n",
        "        self.conv3 = nn.Conv2d(in_channels=50,out_channels= 60,kernel_size=3, stride = 1, padding = ((1,1)))     \n",
        "        self.bn1 = nn.BatchNorm2d(num_features=20)\n",
        "        self.bn2 = nn.BatchNorm2d(num_features=50)\n",
        "        self.bn3 = nn.BatchNorm2d(num_features=60)\n",
        "        self.fc1 = nn.Linear(60*15*15,200)\n",
        "        self.fc2 = nn.Linear(200,2)\n",
        "        self.m = nn.Dropout(p=0.25)\n",
        "\n",
        "        self.dense_bn1 = nn.BatchNorm1d(num_features=200)\n",
        "        \n",
        "    def forward(self, x):\n",
        "        x = F.relu(self.conv1(x))\n",
        "        x = F.max_pool2d(self.bn1(x), kernel_size=2,stride=2)\n",
        "        x = F.relu(self.m(self.conv2(x)))\n",
        "        x = F.max_pool2d(self.bn2(x), kernel_size=2,stride=2)\n",
        "        x = F.relu(self.m(self.conv3(x)))\n",
        "        x = F.max_pool2d(self.bn3(x), kernel_size=2,stride=1)\n",
        "        x = x.view(-1, 60*15*15)\n",
        "        x = F.relu(self.m(self.dense_bn1(self.fc1(x))))\n",
        "        x= self.fc2(x)\n",
        "        return F.log_softmax(x, dim=1)"
      ],
      "execution_count": null,
      "outputs": []
    },
    {
      "cell_type": "code",
      "metadata": {
        "id": "DK0cOkfxbsvg"
      },
      "source": [
        "device = torch.device(\"cuda\" if torch.cuda.is_available() \n",
        "                                  else \"cpu\")\n",
        "\n",
        "model = DigitClassifierNetwork()\n",
        "model.to(device);\n",
        "loss_fn = nn.CrossEntropyLoss()\n",
        "# effectively telling it which parameters we consider trainable.\n",
        "optimizer = optim.Adam(model.parameters(), lr=0.001,weight_decay=1e-2)"
      ],
      "execution_count": null,
      "outputs": []
    },
    {
      "cell_type": "code",
      "metadata": {
        "id": "n3KURhABbsvh"
      },
      "source": [
        "def evaluate_model(val_data_loader, model, loss_fn):\n",
        "    losses = []\n",
        "    n_correct = 0\n",
        "    with torch.no_grad():\n",
        "        for b_x, b_y in val_data_loader:\n",
        "            b_x = b_x.cuda()\n",
        "            b_y = b_y.cuda()\n",
        "            pred = model(b_x)\n",
        "            loss = loss_fn(pred, b_y)\n",
        "            losses.append(loss.item())\n",
        "            \n",
        "            hard_preds = pred.argmax(dim=1)\n",
        "            n_correct += torch.sum(pred.argmax(dim=1) == b_y).item()\n",
        "        val_accuracy = n_correct/len(small_val_data)\n",
        "        val_avg_loss = sum(losses)/len(losses)    \n",
        "    \n",
        "    return val_accuracy, val_avg_loss"
      ],
      "execution_count": null,
      "outputs": []
    },
    {
      "cell_type": "code",
      "metadata": {
        "colab": {
          "referenced_widgets": [
            "37d1796d610c451aabc20a45cc3c8382",
            "ed4bb75d6f1f4df78a7e415c2f9357a1",
            "f3eab8679b6445df8adadf8a52308703",
            "5ed0cb8f890847dcbd8793cc7d69851b",
            "72e244d05ee74f87872320e8d4836184",
            "4b4fb81f33d543f4b23ece5d3c2dc735",
            "be5c49662f0b49c690679ae21d050846",
            "39d147833690491fa1b06d000ed89246",
            "23090271c3454198888f943840ef978d",
            "9c81f4b2914e43faa0ad8cc9d0751ec3"
          ]
        },
        "id": "TEOlziM5bsvh",
        "outputId": "fbad0a69-34df-4291-f978-df55552b3e6e"
      },
      "source": [
        "train3_losses = []\n",
        "val3_losses = []\n",
        "train3_accs = []\n",
        "val3_accs = []\n",
        "\n",
        "for epoch in range(10):\n",
        "    losses = []\n",
        "    n_correct = 0\n",
        "    for b_x, b_y in tqdm(small_train_dataloader):\n",
        "        b_x = b_x.cuda()\n",
        "        b_y = b_y.cuda()\n",
        "        \n",
        "        # Compute predictions and losses\n",
        "        pred = model(b_x)\n",
        "        loss = loss_fn(pred, b_y)\n",
        "        losses.append(loss.item())\n",
        "        \n",
        "        # Count number of correct predictions\n",
        "        hard_preds = pred.argmax(dim=1)\n",
        "        n_correct += torch.sum(pred.argmax(dim=1) == b_y).item()\n",
        "\n",
        "        # Backpropagate\n",
        "        loss.backward()\n",
        "        optimizer.step()\n",
        "        optimizer.zero_grad()    \n",
        "        \n",
        "    # Compute accuracy and loss in the entire training set\n",
        "    train_accuracy = n_correct/len(small_train_data)\n",
        "    train_avg_loss = sum(losses)/len(losses)    \n",
        "        \n",
        "    # Compute accuracy and loss in the entire validation set\n",
        "    val_accuracy, val_avg_loss = evaluate_model(small_val_dataloader, model, loss_fn)\n",
        "    \n",
        "    train3_losses.append(train_avg_loss)\n",
        "    val3_losses.append(val_avg_loss)\n",
        "    train3_accs.append(train_accuracy)\n",
        "    val3_accs.append(val_accuracy)\n",
        "        \n",
        "    # Display metrics\n",
        "    display_str = 'Epoch {} '\n",
        "    display_str += '\\tLoss: {:.3f} '\n",
        "    display_str += '\\tLoss (val): {:.3f}'\n",
        "    display_str += '\\tAccuracy: {:.2f} '\n",
        "    display_str += '\\tAccuracy (val): {:.2f}'\n",
        "    print(display_str.format(epoch, train_avg_loss, val_avg_loss, train_accuracy, val_accuracy))"
      ],
      "execution_count": null,
      "outputs": [
        {
          "output_type": "display_data",
          "data": {
            "application/vnd.jupyter.widget-view+json": {
              "model_id": "37d1796d610c451aabc20a45cc3c8382",
              "version_major": 2,
              "version_minor": 0
            },
            "text/plain": [
              "HBox(children=(FloatProgress(value=0.0, max=28.0), HTML(value='')))"
            ]
          },
          "metadata": {
            "tags": []
          }
        },
        {
          "output_type": "stream",
          "text": [
            "\n",
            "Epoch 0 \tLoss: 0.661 \tLoss (val): 0.570\tAccuracy: 0.66 \tAccuracy (val): 0.71\n"
          ],
          "name": "stdout"
        },
        {
          "output_type": "display_data",
          "data": {
            "application/vnd.jupyter.widget-view+json": {
              "model_id": "ed4bb75d6f1f4df78a7e415c2f9357a1",
              "version_major": 2,
              "version_minor": 0
            },
            "text/plain": [
              "HBox(children=(FloatProgress(value=0.0, max=28.0), HTML(value='')))"
            ]
          },
          "metadata": {
            "tags": []
          }
        },
        {
          "output_type": "stream",
          "text": [
            "\n",
            "Epoch 1 \tLoss: 0.515 \tLoss (val): 0.531\tAccuracy: 0.74 \tAccuracy (val): 0.74\n"
          ],
          "name": "stdout"
        },
        {
          "output_type": "display_data",
          "data": {
            "application/vnd.jupyter.widget-view+json": {
              "model_id": "f3eab8679b6445df8adadf8a52308703",
              "version_major": 2,
              "version_minor": 0
            },
            "text/plain": [
              "HBox(children=(FloatProgress(value=0.0, max=28.0), HTML(value='')))"
            ]
          },
          "metadata": {
            "tags": []
          }
        },
        {
          "output_type": "stream",
          "text": [
            "\n",
            "Epoch 2 \tLoss: 0.464 \tLoss (val): 0.540\tAccuracy: 0.77 \tAccuracy (val): 0.74\n"
          ],
          "name": "stdout"
        },
        {
          "output_type": "display_data",
          "data": {
            "application/vnd.jupyter.widget-view+json": {
              "model_id": "5ed0cb8f890847dcbd8793cc7d69851b",
              "version_major": 2,
              "version_minor": 0
            },
            "text/plain": [
              "HBox(children=(FloatProgress(value=0.0, max=28.0), HTML(value='')))"
            ]
          },
          "metadata": {
            "tags": []
          }
        },
        {
          "output_type": "stream",
          "text": [
            "\n",
            "Epoch 3 \tLoss: 0.415 \tLoss (val): 0.540\tAccuracy: 0.81 \tAccuracy (val): 0.74\n"
          ],
          "name": "stdout"
        },
        {
          "output_type": "display_data",
          "data": {
            "application/vnd.jupyter.widget-view+json": {
              "model_id": "72e244d05ee74f87872320e8d4836184",
              "version_major": 2,
              "version_minor": 0
            },
            "text/plain": [
              "HBox(children=(FloatProgress(value=0.0, max=28.0), HTML(value='')))"
            ]
          },
          "metadata": {
            "tags": []
          }
        },
        {
          "output_type": "stream",
          "text": [
            "\n",
            "Epoch 4 \tLoss: 0.362 \tLoss (val): 0.511\tAccuracy: 0.83 \tAccuracy (val): 0.76\n"
          ],
          "name": "stdout"
        },
        {
          "output_type": "display_data",
          "data": {
            "application/vnd.jupyter.widget-view+json": {
              "model_id": "4b4fb81f33d543f4b23ece5d3c2dc735",
              "version_major": 2,
              "version_minor": 0
            },
            "text/plain": [
              "HBox(children=(FloatProgress(value=0.0, max=28.0), HTML(value='')))"
            ]
          },
          "metadata": {
            "tags": []
          }
        },
        {
          "output_type": "stream",
          "text": [
            "\n",
            "Epoch 5 \tLoss: 0.311 \tLoss (val): 0.529\tAccuracy: 0.88 \tAccuracy (val): 0.75\n"
          ],
          "name": "stdout"
        },
        {
          "output_type": "display_data",
          "data": {
            "application/vnd.jupyter.widget-view+json": {
              "model_id": "be5c49662f0b49c690679ae21d050846",
              "version_major": 2,
              "version_minor": 0
            },
            "text/plain": [
              "HBox(children=(FloatProgress(value=0.0, max=28.0), HTML(value='')))"
            ]
          },
          "metadata": {
            "tags": []
          }
        },
        {
          "output_type": "stream",
          "text": [
            "\n",
            "Epoch 6 \tLoss: 0.272 \tLoss (val): 0.552\tAccuracy: 0.89 \tAccuracy (val): 0.76\n"
          ],
          "name": "stdout"
        },
        {
          "output_type": "display_data",
          "data": {
            "application/vnd.jupyter.widget-view+json": {
              "model_id": "39d147833690491fa1b06d000ed89246",
              "version_major": 2,
              "version_minor": 0
            },
            "text/plain": [
              "HBox(children=(FloatProgress(value=0.0, max=28.0), HTML(value='')))"
            ]
          },
          "metadata": {
            "tags": []
          }
        },
        {
          "output_type": "stream",
          "text": [
            "\n",
            "Epoch 7 \tLoss: 0.238 \tLoss (val): 0.532\tAccuracy: 0.91 \tAccuracy (val): 0.77\n"
          ],
          "name": "stdout"
        },
        {
          "output_type": "display_data",
          "data": {
            "application/vnd.jupyter.widget-view+json": {
              "model_id": "23090271c3454198888f943840ef978d",
              "version_major": 2,
              "version_minor": 0
            },
            "text/plain": [
              "HBox(children=(FloatProgress(value=0.0, max=28.0), HTML(value='')))"
            ]
          },
          "metadata": {
            "tags": []
          }
        },
        {
          "output_type": "stream",
          "text": [
            "\n",
            "Epoch 8 \tLoss: 0.227 \tLoss (val): 0.552\tAccuracy: 0.91 \tAccuracy (val): 0.77\n"
          ],
          "name": "stdout"
        },
        {
          "output_type": "display_data",
          "data": {
            "application/vnd.jupyter.widget-view+json": {
              "model_id": "9c81f4b2914e43faa0ad8cc9d0751ec3",
              "version_major": 2,
              "version_minor": 0
            },
            "text/plain": [
              "HBox(children=(FloatProgress(value=0.0, max=28.0), HTML(value='')))"
            ]
          },
          "metadata": {
            "tags": []
          }
        },
        {
          "output_type": "stream",
          "text": [
            "\n",
            "Epoch 9 \tLoss: 0.217 \tLoss (val): 0.551\tAccuracy: 0.92 \tAccuracy (val): 0.77\n"
          ],
          "name": "stdout"
        }
      ]
    },
    {
      "cell_type": "markdown",
      "metadata": {
        "deletable": false,
        "editable": false,
        "nbgrader": {
          "cell_type": "markdown",
          "checksum": "ba6a43ffd69fce436811d9311aedcede",
          "grade": false,
          "grade_id": "cell-d033937b5a8b9875",
          "locked": true,
          "schema_version": 3,
          "solution": false
        },
        "id": "Y6CRv-29bsvh"
      },
      "source": [
        "Create two plots. In one of them, plot the loss in the training and the validation datasets. In the other one, plot the accuracy in the training and validation datasets."
      ]
    },
    {
      "cell_type": "code",
      "metadata": {
        "deletable": false,
        "nbgrader": {
          "cell_type": "code",
          "checksum": "88f944698dc9dc353e1933fe16b6de87",
          "grade": true,
          "grade_id": "cell-3df999674672de47",
          "locked": false,
          "points": 0,
          "schema_version": 3,
          "solution": true
        },
        "id": "ls4S5akrbsvi",
        "outputId": "e2755849-5050-48e7-b7ed-0787f3b25bee"
      },
      "source": [
        "# Create figure for plotting\n",
        "fig, ax = plt.subplots(ncols=2, figsize=(8,4))\n",
        "plt.ion()\n",
        "plot_interval = 1\n",
        "\n",
        "\n",
        "# Update plots\n",
        "ax[0].clear()\n",
        "ax[0].plot(train3_losses)\n",
        "ax[0].plot(val3_losses)\n",
        "\n",
        "ax[1].clear()\n",
        "ax[1].plot(train3_accs)\n",
        "ax[1].plot(val3_accs)\n",
        "\n",
        "# Add legends and labels\n",
        "ax[0].set_title('Loss')\n",
        "ax[0].set_xlabel('Number of batches')\n",
        "ax[0].legend(['Train', 'Validation'])\n",
        "\n",
        "ax[1].set_title('Accuracy')\n",
        "ax[1].set_xlabel('Number of batches')\n",
        "ax[1].legend(['Train', 'Validation'])\n",
        "ax[1].set_ylim([0,1])\n",
        "\n",
        "# Draw the figure on the screen\n",
        "fig.canvas.draw()"
      ],
      "execution_count": null,
      "outputs": [
        {
          "output_type": "display_data",
          "data": {
            "image/png": "[encoded data removed]",
            "text/plain": [
              "<Figure size 576x288 with 2 Axes>"
            ]
          },
          "metadata": {
            "tags": [],
            "needs_background": "light"
          }
        }
      ]
    },
    {
      "cell_type": "code",
      "metadata": {
        "id": "7jyy5aqBbsvi"
      },
      "source": [
        "# Saving the model\n",
        "torch.save(model.state_dict(), \"my_model\")"
      ],
      "execution_count": null,
      "outputs": []
    },
    {
      "cell_type": "markdown",
      "metadata": {
        "deletable": false,
        "editable": false,
        "nbgrader": {
          "cell_type": "markdown",
          "checksum": "ceb570afa39d746b3b5f132ecb5bc72e",
          "grade": false,
          "grade_id": "cell-25f9cc8d17491d0d",
          "locked": true,
          "schema_version": 3,
          "solution": false
        },
        "id": "zL8hGbhKbsvj"
      },
      "source": [
        "---\n",
        "## 4. Transfer Learning"
      ]
    },
    {
      "cell_type": "code",
      "metadata": {
        "deletable": false,
        "nbgrader": {
          "cell_type": "code",
          "checksum": "984428d972274a469334141d07c8666a",
          "grade": true,
          "grade_id": "cell-01ebc4c9c306b985",
          "locked": false,
          "points": 0,
          "schema_version": 3,
          "solution": true
        },
        "id": "l2XvY-99bsvj"
      },
      "source": [
        "import torchvision.models as models\n",
        "vgg = models.vgg16(pretrained= True)"
      ],
      "execution_count": null,
      "outputs": []
    },
    {
      "cell_type": "code",
      "metadata": {
        "deletable": false,
        "nbgrader": {
          "cell_type": "code",
          "checksum": "62829c2400b8ae993b346dd1a4ca68c0",
          "grade": true,
          "grade_id": "cell-56cb37360051a638",
          "locked": false,
          "points": 0,
          "schema_version": 3,
          "solution": true
        },
        "id": "ML9l7yyNbsvj",
        "outputId": "ddd0d1b4-4c3b-45fb-8793-9751f933f256"
      },
      "source": [
        "print(vgg.classifier)\n",
        "num_features = vgg.classifier[3].in_features\n",
        "for i in range(5):\n",
        "    features = list(vgg.classifier.children())[:-4]\n",
        "features.extend([nn.Linear(num_features, 2)])"
      ],
      "execution_count": null,
      "outputs": [
        {
          "output_type": "stream",
          "text": [
            "Sequential(\n",
            "  (0): Linear(in_features=25088, out_features=4096, bias=True)\n",
            "  (1): ReLU(inplace=True)\n",
            "  (2): Dropout(p=0.5, inplace=False)\n",
            "  (3): Linear(in_features=4096, out_features=4096, bias=True)\n",
            "  (4): ReLU(inplace=True)\n",
            "  (5): Dropout(p=0.5, inplace=False)\n",
            "  (6): Linear(in_features=4096, out_features=1000, bias=True)\n",
            ")\n"
          ],
          "name": "stdout"
        }
      ]
    },
    {
      "cell_type": "code",
      "metadata": {
        "deletable": false,
        "nbgrader": {
          "cell_type": "code",
          "checksum": "642f3cbea497868385adff16643091c4",
          "grade": true,
          "grade_id": "cell-76e4aad7fbcf5d05",
          "locked": false,
          "points": 0,
          "schema_version": 3,
          "solution": true
        },
        "id": "j8XfGGNfbsvk",
        "outputId": "1a61e613-8722-492a-9f33-97a8a3828762"
      },
      "source": [
        "vgg.classifier = nn.Sequential(*features)\n",
        "print(vgg.classifier)"
      ],
      "execution_count": null,
      "outputs": [
        {
          "output_type": "stream",
          "text": [
            "Sequential(\n",
            "  (0): Linear(in_features=25088, out_features=4096, bias=True)\n",
            "  (1): ReLU(inplace=True)\n",
            "  (2): Dropout(p=0.5, inplace=False)\n",
            "  (3): Linear(in_features=4096, out_features=2, bias=True)\n",
            ")\n"
          ],
          "name": "stdout"
        }
      ]
    },
    {
      "cell_type": "markdown",
      "metadata": {
        "deletable": false,
        "editable": false,
        "nbgrader": {
          "cell_type": "markdown",
          "checksum": "0ff2dfca08a9262327d0ee7d0c58b2bd",
          "grade": false,
          "grade_id": "cell-f76d1a7f6280af0d",
          "locked": true,
          "schema_version": 3,
          "solution": false
        },
        "id": "GC01Ol_Hbsvk"
      },
      "source": [
        "### 4.1 Using VGG features"
      ]
    },
    {
      "cell_type": "code",
      "metadata": {
        "deletable": false,
        "nbgrader": {
          "cell_type": "code",
          "checksum": "b460fd8c5e4c535489d896457d6b22e0",
          "grade": true,
          "grade_id": "cell-bfb58ea46c31df0a",
          "locked": false,
          "points": 0,
          "schema_version": 3,
          "solution": true
        },
        "id": "nDfpJtfgbsvk"
      },
      "source": [
        "# Freeze bottom\n",
        "for parameter in vgg.features.parameters():\n",
        "    parameter.require_grad = False"
      ],
      "execution_count": null,
      "outputs": []
    },
    {
      "cell_type": "code",
      "metadata": {
        "id": "XEhg6ZDVbsvl"
      },
      "source": [
        "small_train_data=datasets.ImageFolder(Path.cwd() / \"small_train\",tfs.Compose([tfs.Resize((224,224)),tfs.ToTensor(),tfs.Normalize(mean=[0.485, 0.456, 0.406],std=[0.229, 0.224, 0.225])]))\n",
        "small_val_data=datasets.ImageFolder(Path.cwd() / \"small_val\", tfs.Compose([tfs.Resize((224,224)),tfs.ToTensor(),tfs.Normalize(mean=[0.485, 0.456, 0.406],std=[0.229, 0.224, 0.225])]))\n",
        "\n",
        "small_train_dataloader=torch.utils.data.DataLoader(small_train_data, batch_size=64, shuffle=True, num_workers=5)\n",
        "small_val_dataloader=torch.utils.data.DataLoader(small_val_data, batch_size=64, shuffle=True, num_workers=5)"
      ],
      "execution_count": null,
      "outputs": []
    },
    {
      "cell_type": "code",
      "metadata": {
        "deletable": false,
        "nbgrader": {
          "cell_type": "code",
          "checksum": "4f0d719703f2da49ac4b86f4480c5080",
          "grade": true,
          "grade_id": "cell-5a025e60545ca151",
          "locked": false,
          "points": 0,
          "schema_version": 3,
          "solution": true
        },
        "id": "IlCAEX9Obsvl"
      },
      "source": [
        "device = torch.device(\"cuda\" if torch.cuda.is_available() \n",
        "                                  else \"cpu\")\n",
        "# YOUR CODE HERE\n",
        "model = vgg\n",
        "# We moved the dataset to `device`, then we must move model as well.\n",
        "# Don't worry, if you forget it pytorch will throw an error and your code will not run before you fix it.\n",
        "model.to(device);\n",
        "loss_fn = nn.CrossEntropyLoss()\n",
        "# We provide the `Adam` optimizer with the model parameters,\n",
        "# effectively telling it which parameters we consider trainable.\n",
        "optimizer = optim.Adam(model.parameters(), lr=0.0001,weight_decay=1e-2)"
      ],
      "execution_count": null,
      "outputs": []
    },
    {
      "cell_type": "code",
      "metadata": {
        "id": "dA4Kn88pbsvl"
      },
      "source": [
        "def evaluate_model(val_data_loader, model, loss_fn):\n",
        "    losses = []\n",
        "    n_correct = 0\n",
        "    with torch.no_grad():\n",
        "        for b_x, b_y in val_data_loader:\n",
        "            b_x = b_x.cuda()\n",
        "            b_y = b_y.cuda()\n",
        "            pred = model(b_x)\n",
        "            loss = loss_fn(pred, b_y)\n",
        "            losses.append(loss.item())\n",
        "            \n",
        "            hard_preds = pred.argmax(dim=1)\n",
        "            n_correct += torch.sum(pred.argmax(dim=1) == b_y).item()\n",
        "        val_accuracy = n_correct/len(small_val_data)\n",
        "        val_avg_loss = sum(losses)/len(losses)    \n",
        "    \n",
        "    return val_accuracy, val_avg_loss"
      ],
      "execution_count": null,
      "outputs": []
    },
    {
      "cell_type": "code",
      "metadata": {
        "colab": {
          "referenced_widgets": [
            "9648e45966e54a03aba0ac8b3f7ac5c5",
            "338bb7b080174384add97d28384c4e9a",
            "eb79264a662f4b538d0bbf95356d0f27",
            "94ae0e470bb8434491acbbb744f381fa",
            "ba2289b7b2534870acebf087d982b436"
          ]
        },
        "id": "T-9sEnDbbsvl",
        "outputId": "beda904c-6e2e-455f-e8af-223cabe7b55f"
      },
      "source": [
        "train_losses = []\n",
        "val_losses = []\n",
        "train_accs = []\n",
        "val_accs = []\n",
        "\n",
        "for epoch in range(5):\n",
        "    losses = []\n",
        "    n_correct = 0\n",
        "    for b_x, b_y in tqdm(small_train_dataloader):\n",
        "        \n",
        "        b_x = b_x.cuda()\n",
        "        b_y = b_y.cuda()\n",
        "        # Compute predictions and losses\n",
        "        pred = model(b_x)\n",
        "        loss = loss_fn(pred, b_y)\n",
        "        losses.append(loss.item())\n",
        "        \n",
        "        # Count number of correct predictions\n",
        "        hard_preds = pred.argmax(dim=1)\n",
        "        n_correct += torch.sum(pred.argmax(dim=1) == b_y).item()\n",
        "\n",
        "        # Backpropagate\n",
        "        loss.backward()\n",
        "        optimizer.step()\n",
        "        optimizer.zero_grad()    \n",
        "        \n",
        "    # Compute accuracy and loss in the entire training set\n",
        "    train_accuracy = n_correct/len(small_train_data)\n",
        "    train_avg_loss = sum(losses)/len(losses)    \n",
        "        \n",
        "    # Compute accuracy and loss in the entire validation set\n",
        "    val_accuracy, val_avg_loss = evaluate_model(small_val_dataloader, model, loss_fn)\n",
        "    \n",
        "    train_losses.append(train_avg_loss)\n",
        "    val_losses.append(val_avg_loss)\n",
        "    train_accs.append(train_accuracy)\n",
        "    val_accs.append(val_accuracy)\n",
        "        \n",
        "    # Display metrics\n",
        "    display_str = 'Epoch {} '\n",
        "    display_str += '\\tLoss: {:.3f} '\n",
        "    display_str += '\\tLoss (val): {:.3f}'\n",
        "    display_str += '\\tAccuracy: {:.2f} '\n",
        "    display_str += '\\tAccuracy (val): {:.2f}'\n",
        "    print(display_str.format(epoch, train_avg_loss, val_avg_loss, train_accuracy, val_accuracy))"
      ],
      "execution_count": null,
      "outputs": [
        {
          "output_type": "display_data",
          "data": {
            "application/vnd.jupyter.widget-view+json": {
              "model_id": "9648e45966e54a03aba0ac8b3f7ac5c5",
              "version_major": 2,
              "version_minor": 0
            },
            "text/plain": [
              "HBox(children=(FloatProgress(value=0.0, max=55.0), HTML(value='')))"
            ]
          },
          "metadata": {
            "tags": []
          }
        },
        {
          "output_type": "stream",
          "text": [
            "\n",
            "Epoch 0 \tLoss: 0.100 \tLoss (val): 0.045\tAccuracy: 0.96 \tAccuracy (val): 0.99\n"
          ],
          "name": "stdout"
        },
        {
          "output_type": "display_data",
          "data": {
            "application/vnd.jupyter.widget-view+json": {
              "model_id": "338bb7b080174384add97d28384c4e9a",
              "version_major": 2,
              "version_minor": 0
            },
            "text/plain": [
              "HBox(children=(FloatProgress(value=0.0, max=55.0), HTML(value='')))"
            ]
          },
          "metadata": {
            "tags": []
          }
        },
        {
          "output_type": "stream",
          "text": [
            "\n",
            "Epoch 1 \tLoss: 0.022 \tLoss (val): 0.033\tAccuracy: 0.99 \tAccuracy (val): 0.99\n"
          ],
          "name": "stdout"
        },
        {
          "output_type": "display_data",
          "data": {
            "application/vnd.jupyter.widget-view+json": {
              "model_id": "eb79264a662f4b538d0bbf95356d0f27",
              "version_major": 2,
              "version_minor": 0
            },
            "text/plain": [
              "HBox(children=(FloatProgress(value=0.0, max=55.0), HTML(value='')))"
            ]
          },
          "metadata": {
            "tags": []
          }
        },
        {
          "output_type": "stream",
          "text": [
            "\n",
            "Epoch 2 \tLoss: 0.033 \tLoss (val): 0.060\tAccuracy: 0.99 \tAccuracy (val): 0.97\n"
          ],
          "name": "stdout"
        },
        {
          "output_type": "display_data",
          "data": {
            "application/vnd.jupyter.widget-view+json": {
              "model_id": "94ae0e470bb8434491acbbb744f381fa",
              "version_major": 2,
              "version_minor": 0
            },
            "text/plain": [
              "HBox(children=(FloatProgress(value=0.0, max=55.0), HTML(value='')))"
            ]
          },
          "metadata": {
            "tags": []
          }
        },
        {
          "output_type": "stream",
          "text": [
            "\n",
            "Epoch 3 \tLoss: 0.039 \tLoss (val): 0.113\tAccuracy: 0.99 \tAccuracy (val): 0.96\n"
          ],
          "name": "stdout"
        },
        {
          "output_type": "display_data",
          "data": {
            "application/vnd.jupyter.widget-view+json": {
              "model_id": "ba2289b7b2534870acebf087d982b436",
              "version_major": 2,
              "version_minor": 0
            },
            "text/plain": [
              "HBox(children=(FloatProgress(value=0.0, max=55.0), HTML(value='')))"
            ]
          },
          "metadata": {
            "tags": []
          }
        },
        {
          "output_type": "stream",
          "text": [
            "\n",
            "Epoch 4 \tLoss: 0.015 \tLoss (val): 0.057\tAccuracy: 0.99 \tAccuracy (val): 0.98\n"
          ],
          "name": "stdout"
        }
      ]
    },
    {
      "cell_type": "markdown",
      "metadata": {
        "deletable": false,
        "editable": false,
        "nbgrader": {
          "cell_type": "markdown",
          "checksum": "34bf11c4a55f184ccc7d589c841b0be2",
          "grade": false,
          "grade_id": "cell-ad79e1aa5c4a6185",
          "locked": true,
          "schema_version": 3,
          "solution": false
        },
        "id": "n6u_fEVWbsvm"
      },
      "source": [
        "Create two plots. In one of them, plot the loss in the training and the validation datasets. In the other one, plot the accuracy in the training and validation datasets."
      ]
    },
    {
      "cell_type": "code",
      "metadata": {
        "deletable": false,
        "nbgrader": {
          "cell_type": "code",
          "checksum": "99986b7bbdfb6b78c25112751969d11f",
          "grade": true,
          "grade_id": "cell-f17c882b2a09dee7",
          "locked": false,
          "points": 0,
          "schema_version": 3,
          "solution": true
        },
        "id": "YIEv3vBpbsvm",
        "outputId": "f5b522d4-43ae-48bd-8075-3b1ab9b22395"
      },
      "source": [
        "# Create figure for plotting\n",
        "fig, ax = plt.subplots(ncols=2, figsize=(8,4))\n",
        "plt.ion()\n",
        "plot_interval = 1\n",
        "\n",
        "\n",
        "# Update plots\n",
        "ax[0].clear()\n",
        "ax[0].plot(train_losses)\n",
        "ax[0].plot(val_losses)\n",
        "\n",
        "ax[1].clear()\n",
        "ax[1].plot(train_accs)\n",
        "ax[1].plot(val_accs)\n",
        "\n",
        "# Add legends and labels\n",
        "ax[0].set_title('Loss')\n",
        "ax[0].set_xlabel('Number of batches')\n",
        "ax[0].legend(['Train', 'Validation'])\n",
        "\n",
        "ax[1].set_title('Accuracy')\n",
        "ax[1].set_xlabel('Number of batches')\n",
        "ax[1].legend(['Train', 'Validation'])\n",
        "ax[1].set_ylim([0,1])\n",
        "\n",
        "# Draw the figure on the screen\n",
        "fig.canvas.draw()"
      ],
      "execution_count": null,
      "outputs": [
        {
          "output_type": "display_data",
          "data": {
            "image/png": "[encoded data removed]",
            "text/plain": [
              "<Figure size 576x288 with 2 Axes>"
            ]
          },
          "metadata": {
            "tags": [],
            "needs_background": "light"
          }
        }
      ]
    },
    {
      "cell_type": "markdown",
      "metadata": {
        "deletable": false,
        "editable": false,
        "nbgrader": {
          "cell_type": "markdown",
          "checksum": "8c4634579a40b62a3db715b027fbd80a",
          "grade": false,
          "grade_id": "cell-779d477ffe1ebbf6",
          "locked": true,
          "schema_version": 3,
          "solution": false
        },
        "id": "j6JaOXKxbsvm"
      },
      "source": [
        "How does the model perform, compared to the model obtained in step 3? Create one plot with the training accuracy and another with the validation accuracy of the two scenarios."
      ]
    },
    {
      "cell_type": "code",
      "metadata": {
        "deletable": false,
        "nbgrader": {
          "cell_type": "code",
          "checksum": "873c045fa2e6f22815a90194ed2785f3",
          "grade": true,
          "grade_id": "cell-e3e3990ba39bea67",
          "locked": false,
          "points": 0,
          "schema_version": 3,
          "solution": true
        },
        "id": "rjrZC-uIbsvm",
        "outputId": "8c1d63b2-6d05-400e-9b66-c7e07c0677ea"
      },
      "source": [
        "# Create figure for plotting\n",
        "fig, ax = plt.subplots(ncols=2, figsize=(8,4))\n",
        "plt.ion()\n",
        "plot_interval = 1\n",
        "\n",
        "# Update plots\n",
        "ax[0].clear()\n",
        "ax[0].plot(train_accs)\n",
        "ax[0].plot(train3_accs)\n",
        "\n",
        "ax[1].clear()\n",
        "ax[1].plot(val_accs)\n",
        "ax[1].plot(val3_accs)\n",
        "\n",
        "# Add legends and labels\n",
        "ax[0].set_title('Training Accuracy ')\n",
        "ax[0].set_xlabel('Number of batches')\n",
        "ax[0].legend(['VGG', 'Our Model'])\n",
        "\n",
        "ax[1].set_title('Validation Accuracy')\n",
        "ax[1].set_xlabel('Number of batches')\n",
        "ax[1].legend(['VGG', 'Our Model'])\n",
        "ax[1].set_ylim([0,1])\n",
        "\n",
        "# Draw the figure on the screen\n",
        "fig.canvas.draw()\n",
        "\n"
      ],
      "execution_count": null,
      "outputs": [
        {
          "output_type": "display_data",
          "data": {
            "image/png": "[encoded data removed]",
            "text/plain": [
              "<Figure size 576x288 with 2 Axes>"
            ]
          },
          "metadata": {
            "tags": [],
            "needs_background": "light"
          }
        }
      ]
    },
    {
      "cell_type": "markdown",
      "metadata": {
        "deletable": false,
        "editable": false,
        "nbgrader": {
          "cell_type": "markdown",
          "checksum": "b24258079f4e71e1842b78e479095117",
          "grade": false,
          "grade_id": "cell-111f2b1d28919293",
          "locked": true,
          "schema_version": 3,
          "solution": false
        },
        "id": "IG3tdxx4bsvo"
      },
      "source": [
        "Save the model to a file."
      ]
    },
    {
      "cell_type": "code",
      "metadata": {
        "id": "37_O3AGSbsvo"
      },
      "source": [
        "torch.save(vgg.state_dict(), \"trans_learning_top_only\")"
      ],
      "execution_count": null,
      "outputs": []
    },
    {
      "cell_type": "markdown",
      "metadata": {
        "deletable": false,
        "editable": false,
        "nbgrader": {
          "cell_type": "markdown",
          "checksum": "ab5bf17534c2ac6852d79e32793fdbf7",
          "grade": false,
          "grade_id": "cell-544a73726bebe121",
          "locked": true,
          "schema_version": 3,
          "solution": false
        },
        "id": "igKZSnHdbsvo"
      },
      "source": [
        "### 4.2 Fine-tuning"
      ]
    },
    {
      "cell_type": "markdown",
      "metadata": {
        "deletable": false,
        "editable": false,
        "nbgrader": {
          "cell_type": "markdown",
          "checksum": "54080ee12529dc9ec0d2a887cc564243",
          "grade": false,
          "grade_id": "cell-1ee9ebc87fd3358e",
          "locked": true,
          "schema_version": 3,
          "solution": false
        },
        "id": "e9Z5uVNhbsvo"
      },
      "source": [
        "Now that we have a better starting point for the top layers, we can train the entire network. Unfreeze the bottom layers by resetting the `requires_grad` attribute to `True`."
      ]
    },
    {
      "cell_type": "code",
      "metadata": {
        "deletable": false,
        "nbgrader": {
          "cell_type": "code",
          "checksum": "5fa86d1e45984112d3d27953e63d312e",
          "grade": true,
          "grade_id": "cell-3918c2cdd9817f7e",
          "locked": false,
          "points": 0,
          "schema_version": 3,
          "solution": true
        },
        "id": "WE1c7jIUbsvp"
      },
      "source": [
        "# UnFreeze bottom\n",
        "for parameter in vgg.features.parameters():\n",
        "    parameter.require_grad = True"
      ],
      "execution_count": null,
      "outputs": []
    },
    {
      "cell_type": "code",
      "metadata": {
        "id": "eDjIR0b2bsvp"
      },
      "source": [
        "small_train_data=datasets.ImageFolder(Path.cwd() / \"small_train\",tfs.Compose([tfs.Resize((224,224)),tfs.ToTensor(),tfs.Normalize(mean=[0.485, 0.456, 0.406],std=[0.229, 0.224, 0.225])]))\n",
        "small_val_data=datasets.ImageFolder(Path.cwd() / \"small_val\", tfs.Compose([tfs.Resize((224,224)),tfs.ToTensor(),tfs.Normalize(mean=[0.485, 0.456, 0.406],std=[0.229, 0.224, 0.225])]))\n",
        "\n",
        "small_train_dataloader=torch.utils.data.DataLoader(small_train_data, batch_size=64, shuffle=True, num_workers=5)\n",
        "small_val_dataloader=torch.utils.data.DataLoader(small_val_data, batch_size=64, shuffle=True, num_workers=5)\n"
      ],
      "execution_count": null,
      "outputs": []
    },
    {
      "cell_type": "code",
      "metadata": {
        "deletable": false,
        "nbgrader": {
          "cell_type": "code",
          "checksum": "71ce705f916d83ecec507903ac4a4c64",
          "grade": true,
          "grade_id": "cell-594c6039216461e5",
          "locked": false,
          "points": 0,
          "schema_version": 3,
          "solution": true
        },
        "id": "Hfbtyjrjbsvp"
      },
      "source": [
        "device = torch.device(\"cuda\" if torch.cuda.is_available() \n",
        "                                  else \"cpu\")\n",
        "model = vgg\n",
        "model.to(device);\n",
        "loss_fn = nn.CrossEntropyLoss()\n",
        "optimizer = optim.Adam(model.parameters(), lr=0.0001,weight_decay=1e-2)"
      ],
      "execution_count": null,
      "outputs": []
    },
    {
      "cell_type": "code",
      "metadata": {
        "id": "deY3CUk6bsvp"
      },
      "source": [
        "def evaluate_model(val_data_loader, model, loss_fn):\n",
        "    losses = []\n",
        "    n_correct = 0\n",
        "    with torch.no_grad():\n",
        "        for b_x, b_y in val_data_loader:\n",
        "            b_x = b_x.cuda()\n",
        "            b_y = b_y.cuda()\n",
        "            pred = model(b_x)\n",
        "            loss = loss_fn(pred, b_y)\n",
        "            losses.append(loss.item())\n",
        "            \n",
        "            hard_preds = pred.argmax(dim=1)\n",
        "            n_correct += torch.sum(pred.argmax(dim=1) == b_y).item()\n",
        "        val_accuracy = n_correct/len(small_val_data)\n",
        "        val_avg_loss = sum(losses)/len(losses)    \n",
        "    \n",
        "    return val_accuracy, val_avg_loss"
      ],
      "execution_count": null,
      "outputs": []
    },
    {
      "cell_type": "code",
      "metadata": {
        "colab": {
          "referenced_widgets": [
            "607b73a88bf44810a0125aeb0d33d5b0",
            "1a0546688ec042fa9ea27f7b561d13a5",
            "30c514fea6754db585d8b0bfa6d84dce",
            "d93976da2080489298d4f29a99f557c5",
            "384316151a5441698018968aa025cdeb"
          ]
        },
        "id": "CCLLrwebbsvq",
        "outputId": "28fdfc65-36db-499e-c6aa-fd03a43dd0f5"
      },
      "source": [
        "train_fine_losses = []\n",
        "val_fine_losses = []\n",
        "train_fine_accs = []\n",
        "val_fine_accs = []\n",
        "\n",
        "for epoch in range(5):\n",
        "    losses = []\n",
        "    n_correct = 0\n",
        "    for b_x, b_y in tqdm(small_train_dataloader):\n",
        "        \n",
        "        b_x = b_x.cuda()\n",
        "        b_y = b_y.cuda()\n",
        "        # Compute predictions and losses\n",
        "        pred = model(b_x)\n",
        "        loss = loss_fn(pred, b_y)\n",
        "        losses.append(loss.item())\n",
        "        \n",
        "        # Count number of correct predictions\n",
        "        hard_preds = pred.argmax(dim=1)\n",
        "        n_correct += torch.sum(pred.argmax(dim=1) == b_y).item()\n",
        "\n",
        "        # Backpropagate\n",
        "        loss.backward()\n",
        "        optimizer.step()\n",
        "        optimizer.zero_grad()    \n",
        "        \n",
        "    # Compute accuracy and loss in the entire training set\n",
        "    train_accuracy = n_correct/len(small_train_data)\n",
        "    train_avg_loss = sum(losses)/len(losses)    \n",
        "        \n",
        "    # Compute accuracy and loss in the entire validation set\n",
        "    val_accuracy, val_avg_loss = evaluate_model(small_val_dataloader, model, loss_fn)\n",
        "    \n",
        "    train_fine_losses.append(train_avg_loss)\n",
        "    val_fine_losses.append(val_avg_loss)\n",
        "    train_fine_accs.append(train_accuracy)\n",
        "    val_fine_accs.append(val_accuracy)\n",
        "        \n",
        "    # Display metrics\n",
        "    display_str = 'Epoch {} '\n",
        "    display_str += '\\tLoss: {:.3f} '\n",
        "    display_str += '\\tLoss (val): {:.3f}'\n",
        "    display_str += '\\tAccuracy: {:.2f} '\n",
        "    display_str += '\\tAccuracy (val): {:.2f}'\n",
        "    print(display_str.format(epoch, train_avg_loss, val_avg_loss, train_accuracy, val_accuracy))"
      ],
      "execution_count": null,
      "outputs": [
        {
          "output_type": "display_data",
          "data": {
            "application/vnd.jupyter.widget-view+json": {
              "model_id": "607b73a88bf44810a0125aeb0d33d5b0",
              "version_major": 2,
              "version_minor": 0
            },
            "text/plain": [
              "HBox(children=(FloatProgress(value=0.0, max=55.0), HTML(value='')))"
            ]
          },
          "metadata": {
            "tags": []
          }
        },
        {
          "output_type": "stream",
          "text": [
            "\n",
            "Epoch 0 \tLoss: 0.052 \tLoss (val): 0.083\tAccuracy: 0.98 \tAccuracy (val): 0.98\n"
          ],
          "name": "stdout"
        },
        {
          "output_type": "display_data",
          "data": {
            "application/vnd.jupyter.widget-view+json": {
              "model_id": "1a0546688ec042fa9ea27f7b561d13a5",
              "version_major": 2,
              "version_minor": 0
            },
            "text/plain": [
              "HBox(children=(FloatProgress(value=0.0, max=55.0), HTML(value='')))"
            ]
          },
          "metadata": {
            "tags": []
          }
        },
        {
          "output_type": "stream",
          "text": [
            "\n",
            "Epoch 1 \tLoss: 0.023 \tLoss (val): 0.106\tAccuracy: 0.99 \tAccuracy (val): 0.98\n"
          ],
          "name": "stdout"
        },
        {
          "output_type": "display_data",
          "data": {
            "application/vnd.jupyter.widget-view+json": {
              "model_id": "30c514fea6754db585d8b0bfa6d84dce",
              "version_major": 2,
              "version_minor": 0
            },
            "text/plain": [
              "HBox(children=(FloatProgress(value=0.0, max=55.0), HTML(value='')))"
            ]
          },
          "metadata": {
            "tags": []
          }
        },
        {
          "output_type": "stream",
          "text": [
            "\n",
            "Epoch 2 \tLoss: 0.032 \tLoss (val): 0.077\tAccuracy: 0.99 \tAccuracy (val): 0.97\n"
          ],
          "name": "stdout"
        },
        {
          "output_type": "display_data",
          "data": {
            "application/vnd.jupyter.widget-view+json": {
              "model_id": "d93976da2080489298d4f29a99f557c5",
              "version_major": 2,
              "version_minor": 0
            },
            "text/plain": [
              "HBox(children=(FloatProgress(value=0.0, max=55.0), HTML(value='')))"
            ]
          },
          "metadata": {
            "tags": []
          }
        },
        {
          "output_type": "stream",
          "text": [
            "\n",
            "Epoch 3 \tLoss: 0.037 \tLoss (val): 0.266\tAccuracy: 0.99 \tAccuracy (val): 0.92\n"
          ],
          "name": "stdout"
        },
        {
          "output_type": "display_data",
          "data": {
            "application/vnd.jupyter.widget-view+json": {
              "model_id": "384316151a5441698018968aa025cdeb",
              "version_major": 2,
              "version_minor": 0
            },
            "text/plain": [
              "HBox(children=(FloatProgress(value=0.0, max=55.0), HTML(value='')))"
            ]
          },
          "metadata": {
            "tags": []
          }
        },
        {
          "output_type": "stream",
          "text": [
            "\n",
            "Epoch 4 \tLoss: 0.069 \tLoss (val): 0.120\tAccuracy: 0.98 \tAccuracy (val): 0.97\n"
          ],
          "name": "stdout"
        }
      ]
    },
    {
      "cell_type": "code",
      "metadata": {
        "deletable": false,
        "nbgrader": {
          "cell_type": "code",
          "checksum": "b7b2e69e2ffc7f5bff07ba62225b4cee",
          "grade": true,
          "grade_id": "cell-7edb12ee397ec817",
          "locked": false,
          "points": 0,
          "schema_version": 3,
          "solution": true
        },
        "id": "ydlURtW7bsvq",
        "outputId": "c23624fa-b21e-479c-9508-a51145b7ed81"
      },
      "source": [
        "# Create figure for plotting\n",
        "fig, ax = plt.subplots(ncols=2, figsize=(8,4))\n",
        "plt.ion()\n",
        "plot_interval = 1\n",
        "\n",
        "# Update plots\n",
        "ax[0].clear()\n",
        "ax[0].plot(train_accs)\n",
        "ax[0].plot(train_fine_accs)\n",
        "\n",
        "ax[1].clear()\n",
        "ax[1].plot(val_accs)\n",
        "ax[1].plot(val_fine_accs)\n",
        "\n",
        "# Add legends and labels\n",
        "ax[0].set_title('Training Accuracy')\n",
        "ax[0].set_xlabel('Number of batches')\n",
        "ax[0].legend(['VGG without freezing', 'VGG with freezing'])\n",
        "\n",
        "ax[1].set_title('Validation Accuracy')\n",
        "ax[1].set_xlabel('Number of batches')\n",
        "ax[1].legend(['VGG without freezing', 'VGG with freezing'])\n",
        "ax[1].set_ylim([0,1])\n",
        "\n",
        "# Draw the figure on the screen\n",
        "fig.canvas.draw()\n",
        "\n"
      ],
      "execution_count": null,
      "outputs": [
        {
          "output_type": "display_data",
          "data": {
            "image/png": "[encoded data removed]",
            "text/plain": [
              "<Figure size 576x288 with 2 Axes>"
            ]
          },
          "metadata": {
            "tags": [],
            "needs_background": "light"
          }
        }
      ]
    },
    {
      "cell_type": "markdown",
      "metadata": {
        "deletable": false,
        "editable": false,
        "nbgrader": {
          "cell_type": "markdown",
          "checksum": "4971aa0a2e159c1780dedfc5e78b7c15",
          "grade": false,
          "grade_id": "cell-4ed3967e4f6c5f7f",
          "locked": true,
          "schema_version": 3,
          "solution": false
        },
        "id": "1YQcW6Z2bsvr"
      },
      "source": [
        "Save the model to file."
      ]
    },
    {
      "cell_type": "code",
      "metadata": {
        "id": "ZBN2VW8Tbsvr"
      },
      "source": [
        "torch.save(vgg.state_dict(), \"trans_learning_full\")"
      ],
      "execution_count": null,
      "outputs": []
    },
    {
      "cell_type": "markdown",
      "metadata": {
        "deletable": false,
        "editable": false,
        "nbgrader": {
          "cell_type": "markdown",
          "checksum": "49c722f31cfd70e995b6226c86584565",
          "grade": false,
          "grade_id": "cell-ad0efbac33de5a65",
          "locked": true,
          "schema_version": 3,
          "solution": false
        },
        "id": "3wEQbylAbsvs"
      },
      "source": [
        "## 5. Final training"
      ]
    },
    {
      "cell_type": "code",
      "metadata": {
        "deletable": false,
        "nbgrader": {
          "cell_type": "code",
          "checksum": "94d6c3dc3c25680c53c2f2d4aef85b9d",
          "grade": true,
          "grade_id": "cell-64eaa83780f5eac9",
          "locked": false,
          "points": 0,
          "schema_version": 3,
          "solution": true
        },
        "id": "VU1VCSVubsvt"
      },
      "source": [
        "large_train_data=datasets.ImageFolder(Path.cwd() / \"train\", tfs.Compose([tfs.Resize((224,224)),tfs.ToTensor(),tfs.Normalize(mean=[0.485, 0.456, 0.406],std=[0.229, 0.224, 0.225])]))\n",
        "large_val_data=datasets.ImageFolder(Path.cwd() / \"val\", tfs.Compose([tfs.Resize((224,224)),tfs.ToTensor(),tfs.Normalize(mean=[0.485, 0.456, 0.406],std=[0.229, 0.224, 0.225])]))\n",
        "\n",
        "large_train_dataloader= torch.utils.data.DataLoader(large_train_data, batch_size=64, shuffle=True, num_workers=0)\n",
        "large_val_dataloader= torch.utils.data.DataLoader(large_val_data, batch_size=16, shuffle=True, num_workers=0)\n"
      ],
      "execution_count": null,
      "outputs": []
    },
    {
      "cell_type": "code",
      "metadata": {
        "scrolled": true,
        "id": "LcaBXbYabsvt"
      },
      "source": [
        "device = torch.device(\"cuda\" if torch.cuda.is_available() \n",
        "                                  else \"cpu\")\n",
        "model.to(device);\n",
        "loss_fn = nn.CrossEntropyLoss()\n",
        "optimizer = optim.Adam(model.parameters(), lr=0.0001,weight_decay=1e-2)"
      ],
      "execution_count": null,
      "outputs": []
    },
    {
      "cell_type": "code",
      "metadata": {
        "id": "1b_abHdTbsvt"
      },
      "source": [
        "def evaluate_model(val_data_loader, model, loss_fn):\n",
        "    losses = []\n",
        "    n_correct = 0\n",
        "    with torch.no_grad():\n",
        "        for b_x, b_y in val_data_loader:\n",
        "            b_x = b_x.cuda()\n",
        "            b_y = b_y.cuda()\n",
        "            \n",
        "            pred = model(b_x)\n",
        "            loss = loss_fn(pred, b_y)\n",
        "            losses.append(loss.item())\n",
        "            \n",
        "            hard_preds = pred.argmax(dim=1)\n",
        "            n_correct += torch.sum(pred.argmax(dim=1) == b_y).item()\n",
        "        val_accuracy = n_correct/len(large_val_data)\n",
        "        val_avg_loss = sum(losses)/len(losses)    \n",
        "    \n",
        "    return val_accuracy, val_avg_loss"
      ],
      "execution_count": null,
      "outputs": []
    },
    {
      "cell_type": "code",
      "metadata": {
        "colab": {
          "referenced_widgets": [
            "199c92f6cbb148b1b368a8c325820b1d",
            "fceb7c7c6d384824bce35b2dd1fb88b1",
            "57d7a4c9dc414445b9b14d89f4c4505d",
            "e72de90049874996a2727cc62e9f9fc8",
            "235c6593cd964aa1850ac6be8c547ba4"
          ]
        },
        "id": "gKqEZrmJbsvu",
        "outputId": "569be028-b0d0-4a59-a6db-b2ebc679fa4e"
      },
      "source": [
        "train_full_losses = []\n",
        "val_full_losses = []\n",
        "train_full_accs = []\n",
        "val_full_accs = []\n",
        "\n",
        "for epoch in range(5):\n",
        "    losses = []\n",
        "    n_correct = 0\n",
        "    for b_x, b_y in tqdm(large_train_dataloader):\n",
        "        \n",
        "        b_x = b_x.cuda()\n",
        "        b_y = b_y.cuda()\n",
        "\n",
        "        # Compute predictions and losses\n",
        "        pred = model(b_x)\n",
        "        loss = loss_fn(pred, b_y)\n",
        "        losses.append(loss.item())\n",
        "        \n",
        "        # Count number of correct predictions\n",
        "        hard_preds = pred.argmax(dim=1)\n",
        "        n_correct += torch.sum(pred.argmax(dim=1) == b_y).item()\n",
        "\n",
        "        # Backpropagate\n",
        "        loss.backward()\n",
        "        optimizer.step()\n",
        "        optimizer.zero_grad()    \n",
        "        \n",
        "    # Compute accuracy and loss in the entire training set\n",
        "    train_accuracy = n_correct/len(large_train_data)\n",
        "    train_avg_loss = sum(losses)/len(losses)    \n",
        "        \n",
        "    # Compute accuracy and loss in the entire validation set\n",
        "    val_accuracy, val_avg_loss = evaluate_model(large_val_dataloader, model, loss_fn)\n",
        "    \n",
        "    train_full_losses.append(train_avg_loss)\n",
        "    val_full_losses.append(val_avg_loss)\n",
        "    train_full_accs.append(train_accuracy)\n",
        "    val_full_accs.append(val_accuracy)\n",
        "        \n",
        "    # Display metrics\n",
        "    display_str = 'Epoch {} '\n",
        "    display_str += '\\tLoss: {:.3f} '\n",
        "    display_str += '\\tLoss (val): {:.3f}'\n",
        "    display_str += '\\tAccuracy: {:.2f} '\n",
        "    display_str += '\\tAccuracy (val): {:.2f}'\n",
        "    print(display_str.format(epoch, train_avg_loss, val_avg_loss, train_accuracy, val_accuracy))"
      ],
      "execution_count": null,
      "outputs": [
        {
          "output_type": "display_data",
          "data": {
            "application/vnd.jupyter.widget-view+json": {
              "model_id": "199c92f6cbb148b1b368a8c325820b1d",
              "version_major": 2,
              "version_minor": 0
            },
            "text/plain": [
              "HBox(children=(FloatProgress(value=0.0, max=313.0), HTML(value='')))"
            ]
          },
          "metadata": {
            "tags": []
          }
        },
        {
          "output_type": "stream",
          "text": [
            "\n",
            "Epoch 0 \tLoss: 0.084 \tLoss (val): 0.057\tAccuracy: 0.97 \tAccuracy (val): 0.98\n"
          ],
          "name": "stdout"
        },
        {
          "output_type": "display_data",
          "data": {
            "application/vnd.jupyter.widget-view+json": {
              "model_id": "fceb7c7c6d384824bce35b2dd1fb88b1",
              "version_major": 2,
              "version_minor": 0
            },
            "text/plain": [
              "HBox(children=(FloatProgress(value=0.0, max=313.0), HTML(value='')))"
            ]
          },
          "metadata": {
            "tags": []
          }
        },
        {
          "output_type": "stream",
          "text": [
            "\n",
            "Epoch 1 \tLoss: 0.086 \tLoss (val): 0.063\tAccuracy: 0.97 \tAccuracy (val): 0.98\n"
          ],
          "name": "stdout"
        },
        {
          "output_type": "display_data",
          "data": {
            "application/vnd.jupyter.widget-view+json": {
              "model_id": "57d7a4c9dc414445b9b14d89f4c4505d",
              "version_major": 2,
              "version_minor": 0
            },
            "text/plain": [
              "HBox(children=(FloatProgress(value=0.0, max=313.0), HTML(value='')))"
            ]
          },
          "metadata": {
            "tags": []
          }
        },
        {
          "output_type": "stream",
          "text": [
            "\n",
            "Epoch 2 \tLoss: 0.079 \tLoss (val): 0.074\tAccuracy: 0.97 \tAccuracy (val): 0.97\n"
          ],
          "name": "stdout"
        },
        {
          "output_type": "display_data",
          "data": {
            "application/vnd.jupyter.widget-view+json": {
              "model_id": "e72de90049874996a2727cc62e9f9fc8",
              "version_major": 2,
              "version_minor": 0
            },
            "text/plain": [
              "HBox(children=(FloatProgress(value=0.0, max=313.0), HTML(value='')))"
            ]
          },
          "metadata": {
            "tags": []
          }
        },
        {
          "output_type": "stream",
          "text": [
            "\n",
            "Epoch 3 \tLoss: 0.084 \tLoss (val): 0.093\tAccuracy: 0.97 \tAccuracy (val): 0.96\n"
          ],
          "name": "stdout"
        },
        {
          "output_type": "display_data",
          "data": {
            "application/vnd.jupyter.widget-view+json": {
              "model_id": "235c6593cd964aa1850ac6be8c547ba4",
              "version_major": 2,
              "version_minor": 0
            },
            "text/plain": [
              "HBox(children=(FloatProgress(value=0.0, max=313.0), HTML(value='')))"
            ]
          },
          "metadata": {
            "tags": []
          }
        },
        {
          "output_type": "stream",
          "text": [
            "\n",
            "Epoch 4 \tLoss: 0.092 \tLoss (val): 0.081\tAccuracy: 0.96 \tAccuracy (val): 0.97\n"
          ],
          "name": "stdout"
        }
      ]
    },
    {
      "cell_type": "code",
      "metadata": {
        "deletable": false,
        "nbgrader": {
          "cell_type": "code",
          "checksum": "52bacfa672fbc7eca004c87d041e3411",
          "grade": true,
          "grade_id": "cell-ceaac6be60ce36a9",
          "locked": false,
          "points": 0,
          "schema_version": 3,
          "solution": true
        },
        "id": "1JHKPgBZbsvz",
        "outputId": "fdc2d864-732f-4bf6-b209-a151cfb97059"
      },
      "source": [
        "# Create figure for plotting\n",
        "fig, ax = plt.subplots(ncols=2, figsize=(8,4))\n",
        "plt.ion()\n",
        "plot_interval = 1\n",
        "\n",
        "# Update plots\n",
        "ax[0].clear()\n",
        "ax[0].plot(train_full_accs)\n",
        "ax[0].plot(train_fine_accs)\n",
        "\n",
        "ax[1].clear()\n",
        "ax[1].plot(val_full_accs)\n",
        "ax[1].plot(val_fine_accs)\n",
        "\n",
        "# Add legends and labels\n",
        "ax[0].set_title('Training Accuracy')\n",
        "ax[0].set_xlabel('Number of batches')\n",
        "ax[0].legend(['VGG with Large Dataset', 'VGG with small Dataset'])\n",
        "\n",
        "ax[1].set_title('Validation Accuracy')\n",
        "ax[1].set_xlabel('Number of batches')\n",
        "ax[1].legend(['VGG with Large Dataset', 'VGG with small Dataset'])\n",
        "ax[1].set_ylim([0,1])\n",
        "\n",
        "# Draw the figure on the screen\n",
        "fig.canvas.draw()\n"
      ],
      "execution_count": null,
      "outputs": [
        {
          "output_type": "display_data",
          "data": {
            "image/png": "[encoded data removed]",
            "text/plain": [
              "<Figure size 576x288 with 2 Axes>"
            ]
          },
          "metadata": {
            "tags": [],
            "needs_background": "light"
          }
        }
      ]
    }
  ]
}